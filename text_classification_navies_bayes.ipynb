{
 "cells": [
  {
   "cell_type": "code",
   "execution_count": 10,
   "id": "482fa547",
   "metadata": {},
   "outputs": [],
   "source": [
    "import re\n",
    "from collections import defaultdict\n",
    "import math"
   ]
  },
  {
   "cell_type": "code",
   "execution_count": 11,
   "id": "3f08730b",
   "metadata": {},
   "outputs": [],
   "source": [
    "# Sample training data\n",
    "data = [\n",
    "    (\"I love this movie\", \"Positive\"),\n",
    "    (\"This film is fantastic\", \"Positive\"),\n",
    "    (\"What a wonderful experience\", \"Positive\"),\n",
    "    (\"I hate this movie\", \"Negative\"),\n",
    "    (\"This film is boring and terrible\", \"Negative\")\n",
    "]"
   ]
  },
  {
   "cell_type": "code",
   "execution_count": 12,
   "id": "80709105",
   "metadata": {},
   "outputs": [],
   "source": [
    "# Preprocessing function\n",
    "def preprocess(text):\n",
    "    text = text.lower()\n",
    "    text = re.sub(r\"[^\\w\\s]\", \"\", text)  # remove punctuation\n",
    "    return text.split()"
   ]
  },
  {
   "cell_type": "code",
   "execution_count": 16,
   "id": "1b4a4f81",
   "metadata": {},
   "outputs": [
    {
     "name": "stdout",
     "output_type": "stream",
     "text": [
      "Predicted Class:Positive\n",
      "class scores(log-probabilities):\n",
      "Positive:-10.5161\n",
      "Negative:-11.3069\n"
     ]
    }
   ],
   "source": [
    "class NaiveBayesClassifier:\n",
    "    def __init__(self,alpha=1):\n",
    "        self.alpha=alpha\n",
    "        self.vocab=set()\n",
    "        self.class_word_counts=defaultdict(lambda:defaultdict(int))\n",
    "        self.class_totals=defaultdict(int)\n",
    "        self.class_priors=defaultdict(float)\n",
    "\n",
    "    def train(self,dataset):\n",
    "        class_counts=defaultdict(int)\n",
    "        total_docs=len(dataset)\n",
    "\n",
    "        for sentence,label in dataset:\n",
    "            words=preprocess(sentence)\n",
    "            class_counts[label]+=1\n",
    "            self.class_totals[label]+=len(words)\n",
    "\n",
    "            for word in words:\n",
    "                self.vocab.add(word)\n",
    "                self.class_word_counts[label][word]+=1\n",
    "\n",
    "        for label in class_counts:\n",
    "            self.class_priors[label]=class_counts[label]/total_docs\n",
    "\n",
    "    def predict(self, sentence):\n",
    "        words=preprocess(sentence)\n",
    "        vocab_size=len(self.vocab)\n",
    "\n",
    "        scores={}\n",
    "\n",
    "        for label in self.class_priors:\n",
    "            #start with log prior\n",
    "            log_prob=math.log(self.class_priors[label])\n",
    "\n",
    "            for word in words:\n",
    "                # apply laplace smoothing\n",
    "                word_count=self.class_word_counts[label].get(word,0)\n",
    "                total_words=self.class_totals[label]\n",
    "                prob=(word_count+self.alpha)/(total_words +self.alpha * vocab_size)\n",
    "                log_prob+=math.log(prob)\n",
    "            scores[label]=log_prob\n",
    "\n",
    "        return max(scores,key=scores.get),scores\n",
    "\n",
    "nb=NaiveBayesClassifier(alpha=1)\n",
    "\n",
    "\n",
    "nb.train(data)\n",
    "\n",
    "#predict\n",
    "test_sentence=\"this movie is wonderful\"\n",
    "label,scores=nb.predict(test_sentence)\n",
    "\n",
    "print(f'Predicted Class:{label}')\n",
    "print(\"class scores(log-probabilities):\")\n",
    "for cls, score in scores.items():\n",
    "    print(f'{cls}:{score:.4f}')\n",
    "\n",
    "\n",
    "    "
   ]
  },
  {
   "cell_type": "code",
   "execution_count": null,
   "id": "2f78d0fb",
   "metadata": {},
   "outputs": [],
   "source": []
  }
 ],
 "metadata": {
  "kernelspec": {
   "display_name": "venv",
   "language": "python",
   "name": "python3"
  },
  "language_info": {
   "codemirror_mode": {
    "name": "ipython",
    "version": 3
   },
   "file_extension": ".py",
   "mimetype": "text/x-python",
   "name": "python",
   "nbconvert_exporter": "python",
   "pygments_lexer": "ipython3",
   "version": "3.11.11"
  }
 },
 "nbformat": 4,
 "nbformat_minor": 5
}
