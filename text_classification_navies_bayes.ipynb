{
 "cells": [
  {
   "cell_type": "code",
   "execution_count": 1,
   "id": "482fa547",
   "metadata": {},
   "outputs": [],
   "source": [
    "import re\n",
    "from collections import defaultdict\n",
    "import math"
   ]
  },
  {
   "cell_type": "code",
   "execution_count": 2,
   "id": "3f08730b",
   "metadata": {},
   "outputs": [],
   "source": [
    "# Sample training data\n",
    "data = [\n",
    "    (\"I love this movie\", \"Positive\"),\n",
    "    (\"This film is fantastic\", \"Positive\"),\n",
    "    (\"What a wonderful experience\", \"Positive\"),\n",
    "    (\"I hate this movie\", \"Negative\"),\n",
    "    (\"This film is boring and terrible\", \"Negative\")\n",
    "]"
   ]
  },
  {
   "cell_type": "code",
   "execution_count": 3,
   "id": "80709105",
   "metadata": {},
   "outputs": [],
   "source": [
    "# Preprocessing function\n",
    "def preprocess(text):\n",
    "    text = text.lower()\n",
    "    text = re.sub(r\"[^\\w\\s]\", \"\", text)  # remove punctuation\n",
    "    return text.split()"
   ]
  },
  {
   "cell_type": "code",
   "execution_count": null,
   "id": "1b4a4f81",
   "metadata": {},
   "outputs": [],
   "source": [
    "class NaiveBayesClassifier:\n",
    "    def __init__(self,alpha=1):\n",
    "        self.alpha=alpha\n",
    "        self.vocab=set()\n",
    "        self.class_word_counts=defaultdict(lambda:deafultdict(int))\n",
    "        self.class_totals=defaultdict(int)\n",
    "        self.class_priors=defaultdict(float)\n",
    "\n",
    "    def train(self,dataset):\n",
    "        class_counts=default_dict(int)\n",
    "        total_doc=len(dataset)\n",
    "\n",
    "        for sentence,label in dataset:\n",
    "            words=preprocess(sentence)\n",
    "            class_counts[label]+=1\n",
    "            self.class_totals[label]+=len(words)\n",
    "\n",
    "            for word in words:\n",
    "                self.vocab.add(word)\n",
    "                self.class_word_counts[label][word]+=1\n",
    "\n",
    "        for label in class_counts:\n",
    "            self.class_priors[label]=class_counts[label]/total_docs\n",
    "\n",
    "    "
   ]
  }
 ],
 "metadata": {
  "kernelspec": {
   "display_name": "venv",
   "language": "python",
   "name": "python3"
  },
  "language_info": {
   "codemirror_mode": {
    "name": "ipython",
    "version": 3
   },
   "file_extension": ".py",
   "mimetype": "text/x-python",
   "name": "python",
   "nbconvert_exporter": "python",
   "pygments_lexer": "ipython3",
   "version": "3.11.11"
  }
 },
 "nbformat": 4,
 "nbformat_minor": 5
}
